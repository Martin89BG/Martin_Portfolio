{
 "cells": [
  {
   "cell_type": "code",
   "execution_count": 1,
   "id": "7b266a4e",
   "metadata": {
    "_cell_guid": "b1076dfc-b9ad-4769-8c92-a6c4dae69d19",
    "_uuid": "8f2839f25d086af736a60e9eeb907d3b93b6e0e5",
    "execution": {
     "iopub.execute_input": "2023-04-19T17:51:55.704155Z",
     "iopub.status.busy": "2023-04-19T17:51:55.703587Z",
     "iopub.status.idle": "2023-04-19T17:51:55.722612Z",
     "shell.execute_reply": "2023-04-19T17:51:55.721027Z"
    },
    "papermill": {
     "duration": 0.033268,
     "end_time": "2023-04-19T17:51:55.726107",
     "exception": false,
     "start_time": "2023-04-19T17:51:55.692839",
     "status": "completed"
    },
    "tags": []
   },
   "outputs": [
    {
     "name": "stdout",
     "output_type": "stream",
     "text": [
      "/kaggle/input/titanic/train.csv\n",
      "/kaggle/input/titanic/test.csv\n",
      "/kaggle/input/titanic/gender_submission.csv\n"
     ]
    }
   ],
   "source": [
    "# This Python 3 environment comes with many helpful analytics libraries installed\n",
    "# It is defined by the kaggle/python Docker image: https://github.com/kaggle/docker-python\n",
    "# For example, here's several helpful packages to load\n",
    "\n",
    "import numpy as np # linear algebra\n",
    "import pandas as pd # data processing, CSV file I/O (e.g. pd.read_csv)\n",
    "\n",
    "# Input data files are available in the read-only \"../input/\" directory\n",
    "# For example, running this (by clicking run or pressing Shift+Enter) will list all files under the input directory\n",
    "\n",
    "import os\n",
    "for dirname, _, filenames in os.walk('/kaggle/input'):\n",
    "    for filename in filenames:\n",
    "        print(os.path.join(dirname, filename))\n",
    "    \n",
    "\n",
    "# You can write up to 20GB to the current directory (/kaggle/working/) that gets preserved as output when you create a version using \"Save & Run All\" \n",
    "# You can also write temporary files to /kaggle/temp/, but they won't be saved outside of the current session"
   ]
  },
  {
   "cell_type": "code",
   "execution_count": 2,
   "id": "b709d348",
   "metadata": {
    "execution": {
     "iopub.execute_input": "2023-04-19T17:51:55.743454Z",
     "iopub.status.busy": "2023-04-19T17:51:55.743022Z",
     "iopub.status.idle": "2023-04-19T17:51:55.789258Z",
     "shell.execute_reply": "2023-04-19T17:51:55.787981Z"
    },
    "papermill": {
     "duration": 0.058169,
     "end_time": "2023-04-19T17:51:55.792213",
     "exception": false,
     "start_time": "2023-04-19T17:51:55.734044",
     "status": "completed"
    },
    "tags": []
   },
   "outputs": [
    {
     "data": {
      "text/html": [
       "<div>\n",
       "<style scoped>\n",
       "    .dataframe tbody tr th:only-of-type {\n",
       "        vertical-align: middle;\n",
       "    }\n",
       "\n",
       "    .dataframe tbody tr th {\n",
       "        vertical-align: top;\n",
       "    }\n",
       "\n",
       "    .dataframe thead th {\n",
       "        text-align: right;\n",
       "    }\n",
       "</style>\n",
       "<table border=\"1\" class=\"dataframe\">\n",
       "  <thead>\n",
       "    <tr style=\"text-align: right;\">\n",
       "      <th></th>\n",
       "      <th>PassengerId</th>\n",
       "      <th>Survived</th>\n",
       "      <th>Pclass</th>\n",
       "      <th>Name</th>\n",
       "      <th>Sex</th>\n",
       "      <th>Age</th>\n",
       "      <th>SibSp</th>\n",
       "      <th>Parch</th>\n",
       "      <th>Ticket</th>\n",
       "      <th>Fare</th>\n",
       "      <th>Cabin</th>\n",
       "      <th>Embarked</th>\n",
       "    </tr>\n",
       "  </thead>\n",
       "  <tbody>\n",
       "    <tr>\n",
       "      <th>0</th>\n",
       "      <td>1</td>\n",
       "      <td>0</td>\n",
       "      <td>3</td>\n",
       "      <td>Braund, Mr. Owen Harris</td>\n",
       "      <td>male</td>\n",
       "      <td>22.0</td>\n",
       "      <td>1</td>\n",
       "      <td>0</td>\n",
       "      <td>A/5 21171</td>\n",
       "      <td>7.2500</td>\n",
       "      <td>NaN</td>\n",
       "      <td>S</td>\n",
       "    </tr>\n",
       "    <tr>\n",
       "      <th>1</th>\n",
       "      <td>2</td>\n",
       "      <td>1</td>\n",
       "      <td>1</td>\n",
       "      <td>Cumings, Mrs. John Bradley (Florence Briggs Th...</td>\n",
       "      <td>female</td>\n",
       "      <td>38.0</td>\n",
       "      <td>1</td>\n",
       "      <td>0</td>\n",
       "      <td>PC 17599</td>\n",
       "      <td>71.2833</td>\n",
       "      <td>C85</td>\n",
       "      <td>C</td>\n",
       "    </tr>\n",
       "    <tr>\n",
       "      <th>2</th>\n",
       "      <td>3</td>\n",
       "      <td>1</td>\n",
       "      <td>3</td>\n",
       "      <td>Heikkinen, Miss. Laina</td>\n",
       "      <td>female</td>\n",
       "      <td>26.0</td>\n",
       "      <td>0</td>\n",
       "      <td>0</td>\n",
       "      <td>STON/O2. 3101282</td>\n",
       "      <td>7.9250</td>\n",
       "      <td>NaN</td>\n",
       "      <td>S</td>\n",
       "    </tr>\n",
       "    <tr>\n",
       "      <th>3</th>\n",
       "      <td>4</td>\n",
       "      <td>1</td>\n",
       "      <td>1</td>\n",
       "      <td>Futrelle, Mrs. Jacques Heath (Lily May Peel)</td>\n",
       "      <td>female</td>\n",
       "      <td>35.0</td>\n",
       "      <td>1</td>\n",
       "      <td>0</td>\n",
       "      <td>113803</td>\n",
       "      <td>53.1000</td>\n",
       "      <td>C123</td>\n",
       "      <td>S</td>\n",
       "    </tr>\n",
       "    <tr>\n",
       "      <th>4</th>\n",
       "      <td>5</td>\n",
       "      <td>0</td>\n",
       "      <td>3</td>\n",
       "      <td>Allen, Mr. William Henry</td>\n",
       "      <td>male</td>\n",
       "      <td>35.0</td>\n",
       "      <td>0</td>\n",
       "      <td>0</td>\n",
       "      <td>373450</td>\n",
       "      <td>8.0500</td>\n",
       "      <td>NaN</td>\n",
       "      <td>S</td>\n",
       "    </tr>\n",
       "  </tbody>\n",
       "</table>\n",
       "</div>"
      ],
      "text/plain": [
       "   PassengerId  Survived  Pclass  \\\n",
       "0            1         0       3   \n",
       "1            2         1       1   \n",
       "2            3         1       3   \n",
       "3            4         1       1   \n",
       "4            5         0       3   \n",
       "\n",
       "                                                Name     Sex   Age  SibSp  \\\n",
       "0                            Braund, Mr. Owen Harris    male  22.0      1   \n",
       "1  Cumings, Mrs. John Bradley (Florence Briggs Th...  female  38.0      1   \n",
       "2                             Heikkinen, Miss. Laina  female  26.0      0   \n",
       "3       Futrelle, Mrs. Jacques Heath (Lily May Peel)  female  35.0      1   \n",
       "4                           Allen, Mr. William Henry    male  35.0      0   \n",
       "\n",
       "   Parch            Ticket     Fare Cabin Embarked  \n",
       "0      0         A/5 21171   7.2500   NaN        S  \n",
       "1      0          PC 17599  71.2833   C85        C  \n",
       "2      0  STON/O2. 3101282   7.9250   NaN        S  \n",
       "3      0            113803  53.1000  C123        S  \n",
       "4      0            373450   8.0500   NaN        S  "
      ]
     },
     "execution_count": 2,
     "metadata": {},
     "output_type": "execute_result"
    }
   ],
   "source": [
    "# Read the train data\n",
    "\n",
    "train_data = pd.read_csv('/kaggle/input/titanic/train.csv')\n",
    "train_data.head()"
   ]
  },
  {
   "cell_type": "code",
   "execution_count": 3,
   "id": "6cc8e668",
   "metadata": {
    "execution": {
     "iopub.execute_input": "2023-04-19T17:51:55.811956Z",
     "iopub.status.busy": "2023-04-19T17:51:55.811126Z",
     "iopub.status.idle": "2023-04-19T17:51:55.873107Z",
     "shell.execute_reply": "2023-04-19T17:51:55.871519Z"
    },
    "papermill": {
     "duration": 0.075344,
     "end_time": "2023-04-19T17:51:55.875927",
     "exception": false,
     "start_time": "2023-04-19T17:51:55.800583",
     "status": "completed"
    },
    "tags": []
   },
   "outputs": [
    {
     "data": {
      "text/html": [
       "<div>\n",
       "<style scoped>\n",
       "    .dataframe tbody tr th:only-of-type {\n",
       "        vertical-align: middle;\n",
       "    }\n",
       "\n",
       "    .dataframe tbody tr th {\n",
       "        vertical-align: top;\n",
       "    }\n",
       "\n",
       "    .dataframe thead th {\n",
       "        text-align: right;\n",
       "    }\n",
       "</style>\n",
       "<table border=\"1\" class=\"dataframe\">\n",
       "  <thead>\n",
       "    <tr style=\"text-align: right;\">\n",
       "      <th></th>\n",
       "      <th>PassengerId</th>\n",
       "      <th>Survived</th>\n",
       "      <th>Pclass</th>\n",
       "      <th>Name</th>\n",
       "      <th>Sex</th>\n",
       "      <th>Age</th>\n",
       "      <th>SibSp</th>\n",
       "      <th>Parch</th>\n",
       "      <th>Ticket</th>\n",
       "      <th>Fare</th>\n",
       "      <th>Cabin</th>\n",
       "      <th>Embarked</th>\n",
       "    </tr>\n",
       "  </thead>\n",
       "  <tbody>\n",
       "    <tr>\n",
       "      <th>count</th>\n",
       "      <td>891.000000</td>\n",
       "      <td>891.000000</td>\n",
       "      <td>891.000000</td>\n",
       "      <td>891</td>\n",
       "      <td>891</td>\n",
       "      <td>714.000000</td>\n",
       "      <td>891.000000</td>\n",
       "      <td>891.000000</td>\n",
       "      <td>891</td>\n",
       "      <td>891.000000</td>\n",
       "      <td>204</td>\n",
       "      <td>889</td>\n",
       "    </tr>\n",
       "    <tr>\n",
       "      <th>unique</th>\n",
       "      <td>NaN</td>\n",
       "      <td>NaN</td>\n",
       "      <td>NaN</td>\n",
       "      <td>891</td>\n",
       "      <td>2</td>\n",
       "      <td>NaN</td>\n",
       "      <td>NaN</td>\n",
       "      <td>NaN</td>\n",
       "      <td>681</td>\n",
       "      <td>NaN</td>\n",
       "      <td>147</td>\n",
       "      <td>3</td>\n",
       "    </tr>\n",
       "    <tr>\n",
       "      <th>top</th>\n",
       "      <td>NaN</td>\n",
       "      <td>NaN</td>\n",
       "      <td>NaN</td>\n",
       "      <td>Braund, Mr. Owen Harris</td>\n",
       "      <td>male</td>\n",
       "      <td>NaN</td>\n",
       "      <td>NaN</td>\n",
       "      <td>NaN</td>\n",
       "      <td>347082</td>\n",
       "      <td>NaN</td>\n",
       "      <td>B96 B98</td>\n",
       "      <td>S</td>\n",
       "    </tr>\n",
       "    <tr>\n",
       "      <th>freq</th>\n",
       "      <td>NaN</td>\n",
       "      <td>NaN</td>\n",
       "      <td>NaN</td>\n",
       "      <td>1</td>\n",
       "      <td>577</td>\n",
       "      <td>NaN</td>\n",
       "      <td>NaN</td>\n",
       "      <td>NaN</td>\n",
       "      <td>7</td>\n",
       "      <td>NaN</td>\n",
       "      <td>4</td>\n",
       "      <td>644</td>\n",
       "    </tr>\n",
       "    <tr>\n",
       "      <th>mean</th>\n",
       "      <td>446.000000</td>\n",
       "      <td>0.383838</td>\n",
       "      <td>2.308642</td>\n",
       "      <td>NaN</td>\n",
       "      <td>NaN</td>\n",
       "      <td>29.699118</td>\n",
       "      <td>0.523008</td>\n",
       "      <td>0.381594</td>\n",
       "      <td>NaN</td>\n",
       "      <td>32.204208</td>\n",
       "      <td>NaN</td>\n",
       "      <td>NaN</td>\n",
       "    </tr>\n",
       "    <tr>\n",
       "      <th>std</th>\n",
       "      <td>257.353842</td>\n",
       "      <td>0.486592</td>\n",
       "      <td>0.836071</td>\n",
       "      <td>NaN</td>\n",
       "      <td>NaN</td>\n",
       "      <td>14.526497</td>\n",
       "      <td>1.102743</td>\n",
       "      <td>0.806057</td>\n",
       "      <td>NaN</td>\n",
       "      <td>49.693429</td>\n",
       "      <td>NaN</td>\n",
       "      <td>NaN</td>\n",
       "    </tr>\n",
       "    <tr>\n",
       "      <th>min</th>\n",
       "      <td>1.000000</td>\n",
       "      <td>0.000000</td>\n",
       "      <td>1.000000</td>\n",
       "      <td>NaN</td>\n",
       "      <td>NaN</td>\n",
       "      <td>0.420000</td>\n",
       "      <td>0.000000</td>\n",
       "      <td>0.000000</td>\n",
       "      <td>NaN</td>\n",
       "      <td>0.000000</td>\n",
       "      <td>NaN</td>\n",
       "      <td>NaN</td>\n",
       "    </tr>\n",
       "    <tr>\n",
       "      <th>25%</th>\n",
       "      <td>223.500000</td>\n",
       "      <td>0.000000</td>\n",
       "      <td>2.000000</td>\n",
       "      <td>NaN</td>\n",
       "      <td>NaN</td>\n",
       "      <td>20.125000</td>\n",
       "      <td>0.000000</td>\n",
       "      <td>0.000000</td>\n",
       "      <td>NaN</td>\n",
       "      <td>7.910400</td>\n",
       "      <td>NaN</td>\n",
       "      <td>NaN</td>\n",
       "    </tr>\n",
       "    <tr>\n",
       "      <th>50%</th>\n",
       "      <td>446.000000</td>\n",
       "      <td>0.000000</td>\n",
       "      <td>3.000000</td>\n",
       "      <td>NaN</td>\n",
       "      <td>NaN</td>\n",
       "      <td>28.000000</td>\n",
       "      <td>0.000000</td>\n",
       "      <td>0.000000</td>\n",
       "      <td>NaN</td>\n",
       "      <td>14.454200</td>\n",
       "      <td>NaN</td>\n",
       "      <td>NaN</td>\n",
       "    </tr>\n",
       "    <tr>\n",
       "      <th>75%</th>\n",
       "      <td>668.500000</td>\n",
       "      <td>1.000000</td>\n",
       "      <td>3.000000</td>\n",
       "      <td>NaN</td>\n",
       "      <td>NaN</td>\n",
       "      <td>38.000000</td>\n",
       "      <td>1.000000</td>\n",
       "      <td>0.000000</td>\n",
       "      <td>NaN</td>\n",
       "      <td>31.000000</td>\n",
       "      <td>NaN</td>\n",
       "      <td>NaN</td>\n",
       "    </tr>\n",
       "    <tr>\n",
       "      <th>max</th>\n",
       "      <td>891.000000</td>\n",
       "      <td>1.000000</td>\n",
       "      <td>3.000000</td>\n",
       "      <td>NaN</td>\n",
       "      <td>NaN</td>\n",
       "      <td>80.000000</td>\n",
       "      <td>8.000000</td>\n",
       "      <td>6.000000</td>\n",
       "      <td>NaN</td>\n",
       "      <td>512.329200</td>\n",
       "      <td>NaN</td>\n",
       "      <td>NaN</td>\n",
       "    </tr>\n",
       "  </tbody>\n",
       "</table>\n",
       "</div>"
      ],
      "text/plain": [
       "        PassengerId    Survived      Pclass                     Name   Sex  \\\n",
       "count    891.000000  891.000000  891.000000                      891   891   \n",
       "unique          NaN         NaN         NaN                      891     2   \n",
       "top             NaN         NaN         NaN  Braund, Mr. Owen Harris  male   \n",
       "freq            NaN         NaN         NaN                        1   577   \n",
       "mean     446.000000    0.383838    2.308642                      NaN   NaN   \n",
       "std      257.353842    0.486592    0.836071                      NaN   NaN   \n",
       "min        1.000000    0.000000    1.000000                      NaN   NaN   \n",
       "25%      223.500000    0.000000    2.000000                      NaN   NaN   \n",
       "50%      446.000000    0.000000    3.000000                      NaN   NaN   \n",
       "75%      668.500000    1.000000    3.000000                      NaN   NaN   \n",
       "max      891.000000    1.000000    3.000000                      NaN   NaN   \n",
       "\n",
       "               Age       SibSp       Parch  Ticket        Fare    Cabin  \\\n",
       "count   714.000000  891.000000  891.000000     891  891.000000      204   \n",
       "unique         NaN         NaN         NaN     681         NaN      147   \n",
       "top            NaN         NaN         NaN  347082         NaN  B96 B98   \n",
       "freq           NaN         NaN         NaN       7         NaN        4   \n",
       "mean     29.699118    0.523008    0.381594     NaN   32.204208      NaN   \n",
       "std      14.526497    1.102743    0.806057     NaN   49.693429      NaN   \n",
       "min       0.420000    0.000000    0.000000     NaN    0.000000      NaN   \n",
       "25%      20.125000    0.000000    0.000000     NaN    7.910400      NaN   \n",
       "50%      28.000000    0.000000    0.000000     NaN   14.454200      NaN   \n",
       "75%      38.000000    1.000000    0.000000     NaN   31.000000      NaN   \n",
       "max      80.000000    8.000000    6.000000     NaN  512.329200      NaN   \n",
       "\n",
       "       Embarked  \n",
       "count       889  \n",
       "unique        3  \n",
       "top           S  \n",
       "freq        644  \n",
       "mean        NaN  \n",
       "std         NaN  \n",
       "min         NaN  \n",
       "25%         NaN  \n",
       "50%         NaN  \n",
       "75%         NaN  \n",
       "max         NaN  "
      ]
     },
     "execution_count": 3,
     "metadata": {},
     "output_type": "execute_result"
    }
   ],
   "source": [
    "# Description\n",
    "\n",
    "train_data.describe(include = \"all\")"
   ]
  },
  {
   "cell_type": "code",
   "execution_count": 4,
   "id": "453bf501",
   "metadata": {
    "execution": {
     "iopub.execute_input": "2023-04-19T17:51:55.895280Z",
     "iopub.status.busy": "2023-04-19T17:51:55.894789Z",
     "iopub.status.idle": "2023-04-19T17:51:55.914128Z",
     "shell.execute_reply": "2023-04-19T17:51:55.912819Z"
    },
    "papermill": {
     "duration": 0.032446,
     "end_time": "2023-04-19T17:51:55.916899",
     "exception": false,
     "start_time": "2023-04-19T17:51:55.884453",
     "status": "completed"
    },
    "tags": []
   },
   "outputs": [
    {
     "name": "stdout",
     "output_type": "stream",
     "text": [
      "<class 'pandas.core.frame.DataFrame'>\n",
      "RangeIndex: 891 entries, 0 to 890\n",
      "Data columns (total 12 columns):\n",
      " #   Column       Non-Null Count  Dtype  \n",
      "---  ------       --------------  -----  \n",
      " 0   PassengerId  891 non-null    int64  \n",
      " 1   Survived     891 non-null    int64  \n",
      " 2   Pclass       891 non-null    int64  \n",
      " 3   Name         891 non-null    object \n",
      " 4   Sex          891 non-null    object \n",
      " 5   Age          714 non-null    float64\n",
      " 6   SibSp        891 non-null    int64  \n",
      " 7   Parch        891 non-null    int64  \n",
      " 8   Ticket       891 non-null    object \n",
      " 9   Fare         891 non-null    float64\n",
      " 10  Cabin        204 non-null    object \n",
      " 11  Embarked     889 non-null    object \n",
      "dtypes: float64(2), int64(5), object(5)\n",
      "memory usage: 83.7+ KB\n"
     ]
    }
   ],
   "source": [
    "# Information\n",
    "\n",
    "train_data.info()"
   ]
  },
  {
   "cell_type": "code",
   "execution_count": 5,
   "id": "10a91f1e",
   "metadata": {
    "execution": {
     "iopub.execute_input": "2023-04-19T17:51:55.935264Z",
     "iopub.status.busy": "2023-04-19T17:51:55.934792Z",
     "iopub.status.idle": "2023-04-19T17:51:55.951329Z",
     "shell.execute_reply": "2023-04-19T17:51:55.949947Z"
    },
    "papermill": {
     "duration": 0.028942,
     "end_time": "2023-04-19T17:51:55.954110",
     "exception": false,
     "start_time": "2023-04-19T17:51:55.925168",
     "status": "completed"
    },
    "tags": []
   },
   "outputs": [],
   "source": [
    "# Devide train data in numerical and categorical columns\n",
    "\n",
    "num_data = train_data[['Age', 'SibSp', 'Parch', 'Fare']]\n",
    "cat_data = train_data[['Survived', 'Pclass', 'Sex', 'Ticket', 'Cabin', 'Embarked']]"
   ]
  },
  {
   "cell_type": "code",
   "execution_count": 6,
   "id": "5d2f428f",
   "metadata": {
    "execution": {
     "iopub.execute_input": "2023-04-19T17:51:55.972750Z",
     "iopub.status.busy": "2023-04-19T17:51:55.972266Z",
     "iopub.status.idle": "2023-04-19T17:51:56.782818Z",
     "shell.execute_reply": "2023-04-19T17:51:56.781753Z"
    },
    "papermill": {
     "duration": 0.823158,
     "end_time": "2023-04-19T17:51:56.785572",
     "exception": false,
     "start_time": "2023-04-19T17:51:55.962414",
     "status": "completed"
    },
    "tags": []
   },
   "outputs": [
    {
     "data": {
      "image/png": "[encoded data removed]",
      "text/plain": [
       "<Figure size 432x288 with 1 Axes>"
      ]
     },
     "metadata": {
      "needs_background": "light"
     },
     "output_type": "display_data"
    },
    {
     "data": {
      "image/png": "[encoded data removed]",
      "text/plain": [
       "<Figure size 432x288 with 1 Axes>"
      ]
     },
     "metadata": {
      "needs_background": "light"
     },
     "output_type": "display_data"
    },
    {
     "data": {
      "image/png": "[encoded data removed]",
      "text/plain": [
       "<Figure size 432x288 with 1 Axes>"
      ]
     },
     "metadata": {
      "needs_background": "light"
     },
     "output_type": "display_data"
    },
    {
     "data": {
      "image/png": "[encoded data removed]",
      "text/plain": [
       "<Figure size 432x288 with 1 Axes>"
      ]
     },
     "metadata": {
      "needs_background": "light"
     },
     "output_type": "display_data"
    }
   ],
   "source": [
    "# Visulize the numerical data\n",
    "\n",
    "import matplotlib.pyplot as plt\n",
    "for col in num_data.columns:\n",
    "    plt.hist(num_data[col])\n",
    "    plt.title(col)\n",
    "    plt.show()"
   ]
  },
  {
   "cell_type": "code",
   "execution_count": 7,
   "id": "4e5f53c3",
   "metadata": {
    "execution": {
     "iopub.execute_input": "2023-04-19T17:51:56.807978Z",
     "iopub.status.busy": "2023-04-19T17:51:56.805454Z",
     "iopub.status.idle": "2023-04-19T17:51:58.302856Z",
     "shell.execute_reply": "2023-04-19T17:51:58.301529Z"
    },
    "papermill": {
     "duration": 1.510818,
     "end_time": "2023-04-19T17:51:58.305755",
     "exception": false,
     "start_time": "2023-04-19T17:51:56.794937",
     "status": "completed"
    },
    "tags": []
   },
   "outputs": [
    {
     "name": "stdout",
     "output_type": "stream",
     "text": [
      "            Age     SibSp     Parch      Fare\n",
      "Age    1.000000 -0.308247 -0.189119  0.096067\n",
      "SibSp -0.308247  1.000000  0.414838  0.159651\n",
      "Parch -0.189119  0.414838  1.000000  0.216225\n",
      "Fare   0.096067  0.159651  0.216225  1.000000\n"
     ]
    },
    {
     "data": {
      "text/plain": [
       "<AxesSubplot:>"
      ]
     },
     "execution_count": 7,
     "metadata": {},
     "output_type": "execute_result"
    },
    {
     "data": {
      "image/png": "[encoded data removed]",
      "text/plain": [
       "<Figure size 432x288 with 2 Axes>"
      ]
     },
     "metadata": {
      "needs_background": "light"
     },
     "output_type": "display_data"
    }
   ],
   "source": [
    "# Check the correlation between the numerical data\n",
    "\n",
    "import seaborn as sns\n",
    "print(num_data.corr())\n",
    "sns.heatmap(num_data.corr())"
   ]
  },
  {
   "cell_type": "code",
   "execution_count": 8,
   "id": "1dbc1936",
   "metadata": {
    "execution": {
     "iopub.execute_input": "2023-04-19T17:51:58.327824Z",
     "iopub.status.busy": "2023-04-19T17:51:58.327370Z",
     "iopub.status.idle": "2023-04-19T17:51:58.358295Z",
     "shell.execute_reply": "2023-04-19T17:51:58.356973Z"
    },
    "papermill": {
     "duration": 0.04577,
     "end_time": "2023-04-19T17:51:58.361208",
     "exception": false,
     "start_time": "2023-04-19T17:51:58.315438",
     "status": "completed"
    },
    "tags": []
   },
   "outputs": [
    {
     "data": {
      "text/html": [
       "<div>\n",
       "<style scoped>\n",
       "    .dataframe tbody tr th:only-of-type {\n",
       "        vertical-align: middle;\n",
       "    }\n",
       "\n",
       "    .dataframe tbody tr th {\n",
       "        vertical-align: top;\n",
       "    }\n",
       "\n",
       "    .dataframe thead th {\n",
       "        text-align: right;\n",
       "    }\n",
       "</style>\n",
       "<table border=\"1\" class=\"dataframe\">\n",
       "  <thead>\n",
       "    <tr style=\"text-align: right;\">\n",
       "      <th></th>\n",
       "      <th>Age</th>\n",
       "      <th>Fare</th>\n",
       "      <th>Parch</th>\n",
       "      <th>SibSp</th>\n",
       "    </tr>\n",
       "    <tr>\n",
       "      <th>Survived</th>\n",
       "      <th></th>\n",
       "      <th></th>\n",
       "      <th></th>\n",
       "      <th></th>\n",
       "    </tr>\n",
       "  </thead>\n",
       "  <tbody>\n",
       "    <tr>\n",
       "      <th>0</th>\n",
       "      <td>30.626179</td>\n",
       "      <td>22.117887</td>\n",
       "      <td>0.329690</td>\n",
       "      <td>0.553734</td>\n",
       "    </tr>\n",
       "    <tr>\n",
       "      <th>1</th>\n",
       "      <td>28.343690</td>\n",
       "      <td>48.395408</td>\n",
       "      <td>0.464912</td>\n",
       "      <td>0.473684</td>\n",
       "    </tr>\n",
       "  </tbody>\n",
       "</table>\n",
       "</div>"
      ],
      "text/plain": [
       "                Age       Fare     Parch     SibSp\n",
       "Survived                                          \n",
       "0         30.626179  22.117887  0.329690  0.553734\n",
       "1         28.343690  48.395408  0.464912  0.473684"
      ]
     },
     "execution_count": 8,
     "metadata": {},
     "output_type": "execute_result"
    }
   ],
   "source": [
    "# Compare survival rate across the average Age, SibSp, Parch and Fare\n",
    "\n",
    "pd.pivot_table(train_data, index = 'Survived', values = ['Age', 'SibSp', 'Parch', 'Fare'])"
   ]
  },
  {
   "cell_type": "code",
   "execution_count": 9,
   "id": "1880e11f",
   "metadata": {
    "execution": {
     "iopub.execute_input": "2023-04-19T17:51:58.383108Z",
     "iopub.status.busy": "2023-04-19T17:51:58.382170Z",
     "iopub.status.idle": "2023-04-19T17:51:58.407546Z",
     "shell.execute_reply": "2023-04-19T17:51:58.406284Z"
    },
    "papermill": {
     "duration": 0.039049,
     "end_time": "2023-04-19T17:51:58.410157",
     "exception": false,
     "start_time": "2023-04-19T17:51:58.371108",
     "status": "completed"
    },
    "tags": []
   },
   "outputs": [
    {
     "data": {
      "text/html": [
       "<div>\n",
       "<style scoped>\n",
       "    .dataframe tbody tr th:only-of-type {\n",
       "        vertical-align: middle;\n",
       "    }\n",
       "\n",
       "    .dataframe tbody tr th {\n",
       "        vertical-align: top;\n",
       "    }\n",
       "\n",
       "    .dataframe thead th {\n",
       "        text-align: right;\n",
       "    }\n",
       "</style>\n",
       "<table border=\"1\" class=\"dataframe\">\n",
       "  <thead>\n",
       "    <tr style=\"text-align: right;\">\n",
       "      <th></th>\n",
       "      <th>Family</th>\n",
       "      <th>Survived</th>\n",
       "    </tr>\n",
       "  </thead>\n",
       "  <tbody>\n",
       "    <tr>\n",
       "      <th>3</th>\n",
       "      <td>4</td>\n",
       "      <td>0.724138</td>\n",
       "    </tr>\n",
       "    <tr>\n",
       "      <th>2</th>\n",
       "      <td>3</td>\n",
       "      <td>0.578431</td>\n",
       "    </tr>\n",
       "    <tr>\n",
       "      <th>1</th>\n",
       "      <td>2</td>\n",
       "      <td>0.552795</td>\n",
       "    </tr>\n",
       "    <tr>\n",
       "      <th>6</th>\n",
       "      <td>7</td>\n",
       "      <td>0.333333</td>\n",
       "    </tr>\n",
       "    <tr>\n",
       "      <th>0</th>\n",
       "      <td>1</td>\n",
       "      <td>0.303538</td>\n",
       "    </tr>\n",
       "    <tr>\n",
       "      <th>4</th>\n",
       "      <td>5</td>\n",
       "      <td>0.200000</td>\n",
       "    </tr>\n",
       "    <tr>\n",
       "      <th>5</th>\n",
       "      <td>6</td>\n",
       "      <td>0.136364</td>\n",
       "    </tr>\n",
       "    <tr>\n",
       "      <th>7</th>\n",
       "      <td>8</td>\n",
       "      <td>0.000000</td>\n",
       "    </tr>\n",
       "    <tr>\n",
       "      <th>8</th>\n",
       "      <td>11</td>\n",
       "      <td>0.000000</td>\n",
       "    </tr>\n",
       "  </tbody>\n",
       "</table>\n",
       "</div>"
      ],
      "text/plain": [
       "   Family  Survived\n",
       "3       4  0.724138\n",
       "2       3  0.578431\n",
       "1       2  0.552795\n",
       "6       7  0.333333\n",
       "0       1  0.303538\n",
       "4       5  0.200000\n",
       "5       6  0.136364\n",
       "7       8  0.000000\n",
       "8      11  0.000000"
      ]
     },
     "execution_count": 9,
     "metadata": {},
     "output_type": "execute_result"
    }
   ],
   "source": [
    "train_data[['SibSp', 'Survived']].groupby('SibSp', as_index=False).mean().sort_values(by='Survived', ascending=False)\n",
    "train_data[['Parch', 'Survived']].groupby('Parch', as_index=False).mean().sort_values(by='Survived', ascending=False)\n",
    "\n",
    "# Make a new column of the whole family and check the survival rate by size of families\n",
    "\n",
    "train_data['Family'] = train_data['SibSp'] + train_data['Parch'] + 1\n",
    "train_data[['Family', 'Survived']].groupby('Family', as_index=False).mean().sort_values(by='Survived', ascending=False)\n"
   ]
  },
  {
   "cell_type": "code",
   "execution_count": 10,
   "id": "ebf7f28e",
   "metadata": {
    "execution": {
     "iopub.execute_input": "2023-04-19T17:51:58.433010Z",
     "iopub.status.busy": "2023-04-19T17:51:58.432512Z",
     "iopub.status.idle": "2023-04-19T17:52:10.298067Z",
     "shell.execute_reply": "2023-04-19T17:52:10.296648Z"
    },
    "papermill": {
     "duration": 11.880212,
     "end_time": "2023-04-19T17:52:10.301169",
     "exception": false,
     "start_time": "2023-04-19T17:51:58.420957",
     "status": "completed"
    },
    "tags": []
   },
   "outputs": [
    {
     "data": {
      "image/png": "[encoded data removed]",
      "text/plain": [
       "<Figure size 432x288 with 1 Axes>"
      ]
     },
     "metadata": {
      "needs_background": "light"
     },
     "output_type": "display_data"
    },
    {
     "data": {
      "image/png": "[encoded data removed]",
      "text/plain": [
       "<Figure size 432x288 with 1 Axes>"
      ]
     },
     "metadata": {
      "needs_background": "light"
     },
     "output_type": "display_data"
    },
    {
     "data": {
      "image/png": "[encoded data removed]",
      "text/plain": [
       "<Figure size 432x288 with 1 Axes>"
      ]
     },
     "metadata": {
      "needs_background": "light"
     },
     "output_type": "display_data"
    },
    {
     "data": {
      "image/png": "[encoded data removed]",
      "text/plain": [
       "<Figure size 432x288 with 1 Axes>"
      ]
     },
     "metadata": {
      "needs_background": "light"
     },
     "output_type": "display_data"
    },
    {
     "data": {
      "image/png": "[encoded data removed]",
      "text/plain": [
       "<Figure size 432x288 with 1 Axes>"
      ]
     },
     "metadata": {
      "needs_background": "light"
     },
     "output_type": "display_data"
    },
    {
     "data": {
      "image/png": "[encoded data removed]",
      "text/plain": [
       "<Figure size 432x288 with 1 Axes>"
      ]
     },
     "metadata": {
      "needs_background": "light"
     },
     "output_type": "display_data"
    }
   ],
   "source": [
    "# Visulize the categorical data\n",
    "\n",
    "for col in cat_data.columns:\n",
    "    sns.barplot(data=cat_data, x=cat_data[col].value_counts().index, y=cat_data[col].value_counts())\n",
    "    plt.title(col)\n",
    "    plt.xticks(rotation='vertical')\n",
    "    plt.show()"
   ]
  },
  {
   "cell_type": "code",
   "execution_count": 11,
   "id": "409c6d96",
   "metadata": {
    "execution": {
     "iopub.execute_input": "2023-04-19T17:52:10.328114Z",
     "iopub.status.busy": "2023-04-19T17:52:10.327613Z",
     "iopub.status.idle": "2023-04-19T17:52:10.370965Z",
     "shell.execute_reply": "2023-04-19T17:52:10.369672Z"
    },
    "papermill": {
     "duration": 0.059848,
     "end_time": "2023-04-19T17:52:10.374031",
     "exception": false,
     "start_time": "2023-04-19T17:52:10.314183",
     "status": "completed"
    },
    "tags": []
   },
   "outputs": [
    {
     "name": "stdout",
     "output_type": "stream",
     "text": [
      "Pclass      1   2    3\n",
      "Survived              \n",
      "0          80  97  372\n",
      "1         136  87  119 \n",
      "\n",
      "Sex       female  male\n",
      "Survived              \n",
      "0             81   468\n",
      "1            233   109 \n",
      "\n",
      "Embarked   C   Q    S\n",
      "Survived             \n",
      "0         75  47  427\n",
      "1         93  30  217 \n",
      "\n"
     ]
    }
   ],
   "source": [
    "# Compare Survived and each of the categorical variables\n",
    "\n",
    "print(pd.pivot_table(train_data, values='Ticket', index='Survived', columns='Pclass', aggfunc='count'), '\\n')\n",
    "print(pd.pivot_table(train_data, values='Ticket', index='Survived', columns='Sex', aggfunc='count'), '\\n')\n",
    "print(pd.pivot_table(train_data, values='Ticket', index='Survived', columns='Embarked', aggfunc='count'), '\\n')"
   ]
  },
  {
   "cell_type": "code",
   "execution_count": 12,
   "id": "1b124e10",
   "metadata": {
    "execution": {
     "iopub.execute_input": "2023-04-19T17:52:10.401100Z",
     "iopub.status.busy": "2023-04-19T17:52:10.400352Z",
     "iopub.status.idle": "2023-04-19T17:52:10.411406Z",
     "shell.execute_reply": "2023-04-19T17:52:10.409906Z"
    },
    "papermill": {
     "duration": 0.027858,
     "end_time": "2023-04-19T17:52:10.414333",
     "exception": false,
     "start_time": "2023-04-19T17:52:10.386475",
     "status": "completed"
    },
    "tags": []
   },
   "outputs": [
    {
     "name": "stdout",
     "output_type": "stream",
     "text": [
      "Percentage of all men who survived = 19\n",
      "Percentage of all women who survived = 74\n"
     ]
    }
   ],
   "source": [
    "# Check the theory that more women survived\n",
    "\n",
    "men = train_data.loc[train_data['Sex'] == 'male']\n",
    "rate_men = sum(men['Survived'] == 1) / len(men)\n",
    "print('Percentage of all men who survived =', round((rate_men) * 100))\n",
    "women = train_data.loc[train_data['Sex'] == 'female']\n",
    "rate_women = sum(women['Survived'] == 1) / len(women)\n",
    "print('Percentage of all women who survived =', round((rate_women) * 100))"
   ]
  },
  {
   "cell_type": "code",
   "execution_count": 13,
   "id": "72caac2a",
   "metadata": {
    "execution": {
     "iopub.execute_input": "2023-04-19T17:52:10.440461Z",
     "iopub.status.busy": "2023-04-19T17:52:10.440011Z",
     "iopub.status.idle": "2023-04-19T17:52:10.670882Z",
     "shell.execute_reply": "2023-04-19T17:52:10.669478Z"
    },
    "papermill": {
     "duration": 0.247727,
     "end_time": "2023-04-19T17:52:10.674286",
     "exception": false,
     "start_time": "2023-04-19T17:52:10.426559",
     "status": "completed"
    },
    "tags": []
   },
   "outputs": [
    {
     "data": {
      "image/png": "[encoded data removed]",
      "text/plain": [
       "<Figure size 432x288 with 1 Axes>"
      ]
     },
     "metadata": {
      "needs_background": "light"
     },
     "output_type": "display_data"
    }
   ],
   "source": [
    "ax = sns.barplot(data=train_data, x='Sex', y='Survived')\n",
    "plt.title('Percentage of men who survived of all men and women who survived of all women')\n",
    "ax.set_yticks([0.0, 0.1, 0.2, 0.3, 0.4, 0.5, 0.6, 0.7, 0.8, 0.9, 1.0])\n",
    "plt.show()"
   ]
  },
  {
   "cell_type": "code",
   "execution_count": 14,
   "id": "c6a1b78e",
   "metadata": {
    "execution": {
     "iopub.execute_input": "2023-04-19T17:52:10.717311Z",
     "iopub.status.busy": "2023-04-19T17:52:10.716764Z",
     "iopub.status.idle": "2023-04-19T17:52:11.560772Z",
     "shell.execute_reply": "2023-04-19T17:52:11.559098Z"
    },
    "papermill": {
     "duration": 0.869254,
     "end_time": "2023-04-19T17:52:11.563972",
     "exception": false,
     "start_time": "2023-04-19T17:52:10.694718",
     "status": "completed"
    },
    "tags": []
   },
   "outputs": [
    {
     "name": "stderr",
     "output_type": "stream",
     "text": [
      "/opt/conda/lib/python3.7/site-packages/numpy/lib/nanfunctions.py:1117: RuntimeWarning: Mean of empty slice\n",
      "  return np.nanmean(a, axis, out=out, keepdims=keepdims)\n"
     ]
    },
    {
     "data": {
      "image/png": "[encoded data removed]",
      "text/plain": [
       "<Figure size 432x288 with 1 Axes>"
      ]
     },
     "metadata": {
      "needs_background": "light"
     },
     "output_type": "display_data"
    },
    {
     "name": "stdout",
     "output_type": "stream",
     "text": [
      "Mr        517\n",
      "Miss      184\n",
      "Mrs       125\n",
      "Master     40\n",
      "Rare       23\n",
      "Name: Title, dtype: int64\n"
     ]
    },
    {
     "name": "stderr",
     "output_type": "stream",
     "text": [
      "/opt/conda/lib/python3.7/site-packages/seaborn/_decorators.py:43: FutureWarning: Pass the following variable as a keyword arg: x. From version 0.12, the only valid positional argument will be `data`, and passing other arguments without an explicit keyword will result in an error or misinterpretation.\n",
      "  FutureWarning\n"
     ]
    },
    {
     "data": {
      "image/png": "[encoded data removed]",
      "text/plain": [
       "<Figure size 432x288 with 1 Axes>"
      ]
     },
     "metadata": {
      "needs_background": "light"
     },
     "output_type": "display_data"
    },
    {
     "name": "stdout",
     "output_type": "stream",
     "text": [
      "0    0\n",
      "1    0\n",
      "2    1\n",
      "3    0\n",
      "4    1\n",
      "Name: IsAlone, dtype: int64\n",
      "   Pclass  IsAlone  Sex_female  Sex_male  Fare_Range_Low_fare  \\\n",
      "0       3        0           0         1                    1   \n",
      "1       1        0           1         0                    0   \n",
      "2       3        1           1         0                    0   \n",
      "3       1        0           1         0                    0   \n",
      "4       3        1           0         1                    0   \n",
      "\n",
      "   Fare_Range_median_fare  Fare_Range_Average_fare  Fare_Range_high_fare  \\\n",
      "0                       0                        0                     0   \n",
      "1                       0                        0                     1   \n",
      "2                       1                        0                     0   \n",
      "3                       0                        0                     1   \n",
      "4                       1                        0                     0   \n",
      "\n",
      "   Embarked_C  Embarked_Q  Embarked_S  Title_Master  Title_Miss  Title_Mr  \\\n",
      "0           0           0           1             0           0         1   \n",
      "1           1           0           0             0           0         0   \n",
      "2           0           0           1             0           1         0   \n",
      "3           0           0           1             0           0         0   \n",
      "4           0           0           1             0           0         1   \n",
      "\n",
      "   Title_Mrs  Title_Rare  Age_Range_Children  Age_Range_Teenage  \\\n",
      "0          0           0                   0                  0   \n",
      "1          1           0                   0                  0   \n",
      "2          0           0                   0                  0   \n",
      "3          1           0                   0                  0   \n",
      "4          0           0                   0                  0   \n",
      "\n",
      "   Age_Range_Adult  Age_Range_Elder  \n",
      "0                1                0  \n",
      "1                1                0  \n",
      "2                1                0  \n",
      "3                1                0  \n",
      "4                1                0  \n"
     ]
    }
   ],
   "source": [
    "# Data preprocessing \n",
    "\n",
    "# Choose the relevant features\n",
    "\n",
    "features = ['Pclass', 'Sex', 'Survived', 'Fare_Range', 'Embarked', 'Title', 'IsAlone', 'Age_Range']\n",
    "\n",
    "# Locate the rows which have the same values in the 'SibSp', 'Parch' and 'Pclass\" columns and fill the missing values with the median of these rows\n",
    "# if no rows are found fill the missing value with the median of the entire 'Age' column\n",
    "\n",
    "pd.options.mode.chained_assignment = None\n",
    "\n",
    "age_nan_indices = list(train_data[train_data['Age'].isnull()].index)\n",
    "\n",
    "for index in age_nan_indices:\n",
    "    median_age = train_data['Age'].median()\n",
    "    predict_age = train_data['Age'][(train_data['SibSp'] == train_data.iloc[index]['SibSp'])\n",
    "                                    & (train_data['Parch'] == train_data.iloc[index]['Parch'])\n",
    "                                    & (train_data['Pclass'] == train_data.iloc[index]['Pclass'])].median()\n",
    "                                       \n",
    "    if np.isnan(predict_age):\n",
    "        train_data['Age'].iloc[index] = median_age\n",
    "    else:\n",
    "        train_data['Age'].iloc[index] = predict_age\n",
    "                                       \n",
    "# Remove missing values of 'Embarked' column\n",
    "\n",
    "train_data.dropna(subset=['Embarked'], inplace=True)\n",
    "\n",
    "# Normalize 'Fare' column using np.log (natural logarithm) to get a closer to normal distribution\n",
    "\n",
    "#train_data['Fare'] = np.log(train_data['Fare']+1)\n",
    "train_data['Fare'].hist()\n",
    "plt.show()\n",
    "\n",
    "# Feature engeneering\n",
    "\n",
    "# Make 'Fare_Range' column\n",
    "\n",
    "train_data['Fare_Range'] = pd.cut(train_data['Fare'], bins=[0,7.91,14.45,31,120], labels=['Low_fare','median_fare', 'Average_fare','high_fare'])\n",
    "\n",
    "# Make 'Title' column\n",
    "\n",
    "train_data['Title'] = [name.split(',')[1].split('.')[0].strip() for name in train_data['Name']]\n",
    "train_data['Title'] = train_data['Title'].replace(['Jonkheer', 'Dr', 'Rev', 'Major', 'Col', 'Capt', 'Don', 'the Countess', 'Lady', 'Sir'], 'Rare')  \n",
    "train_data['Title'] = train_data['Title'].replace('Mme', 'Mrs') \n",
    "train_data['Title'] = train_data['Title'].replace(['Mlle', 'Ms'], 'Miss')\n",
    "print(train_data['Title'].value_counts())\n",
    "sns.countplot(train_data['Title'])\n",
    "plt.show()\n",
    "\n",
    "# Make 'IsAlone' column\n",
    "\n",
    "train_data['IsAlone'] = 0\n",
    "train_data.loc[train_data['Family'] == 1, 'IsAlone'] = 1\n",
    "print(train_data['IsAlone'].head())\n",
    "\n",
    "# Make 'Age_range' column\n",
    "\n",
    "train_data['Age_Range'] = pd.cut(train_data['Age'], bins=[0,12,20,40,120], labels=['Children','Teenage','Adult','Elder'])\n",
    "\n",
    "\n",
    "# Convert categorical variables into indicator variables using pd.get_dummies\n",
    "\n",
    "data = pd.get_dummies(train_data[features])\n",
    "\n",
    "\n",
    "# Assign X and y\n",
    "\n",
    "X = data.drop(columns=['Survived'])\n",
    "y = data['Survived']\n",
    "print(X.head())"
   ]
  },
  {
   "cell_type": "code",
   "execution_count": 15,
   "id": "586b1333",
   "metadata": {
    "execution": {
     "iopub.execute_input": "2023-04-19T17:52:11.594466Z",
     "iopub.status.busy": "2023-04-19T17:52:11.593465Z",
     "iopub.status.idle": "2023-04-19T17:52:11.808553Z",
     "shell.execute_reply": "2023-04-19T17:52:11.807093Z"
    },
    "papermill": {
     "duration": 0.233303,
     "end_time": "2023-04-19T17:52:11.811665",
     "exception": false,
     "start_time": "2023-04-19T17:52:11.578362",
     "status": "completed"
    },
    "tags": []
   },
   "outputs": [],
   "source": [
    "# Split the data\n",
    "\n",
    "from sklearn.model_selection import train_test_split\n",
    "X_train, X_test, y_train, y_test = train_test_split(X, y, test_size=0.3, random_state=21, stratify=y)"
   ]
  },
  {
   "cell_type": "code",
   "execution_count": 16,
   "id": "3a881cc6",
   "metadata": {
    "execution": {
     "iopub.execute_input": "2023-04-19T17:52:11.841595Z",
     "iopub.status.busy": "2023-04-19T17:52:11.840315Z",
     "iopub.status.idle": "2023-04-19T17:52:15.805917Z",
     "shell.execute_reply": "2023-04-19T17:52:15.804407Z"
    },
    "papermill": {
     "duration": 3.983951,
     "end_time": "2023-04-19T17:52:15.809167",
     "exception": false,
     "start_time": "2023-04-19T17:52:11.825216",
     "status": "completed"
    },
    "tags": []
   },
   "outputs": [
    {
     "name": "stdout",
     "output_type": "stream",
     "text": [
      "[0.848      0.776      0.79032258 0.74193548 0.73387097]\n",
      "Naive Bayes CV mean = 0.778 \n",
      "\n",
      "[0.832      0.84       0.81451613 0.72580645 0.79032258]\n",
      "Logistic Regression CV mean = 0.801 \n",
      "\n",
      "[0.84       0.816      0.84677419 0.74193548 0.79032258]\n",
      "Decision Tree CV mean = 0.807 \n",
      "\n",
      "[0.84       0.76       0.79032258 0.71774194 0.76612903]\n",
      "KNeighbors CV mean = 0.775 \n",
      "\n",
      "[0.872      0.832      0.83870968 0.71774194 0.78225806]\n",
      "Random Forest CV mean = 0.809 \n",
      "\n",
      "[0.824      0.784      0.82258065 0.74193548 0.75806452]\n",
      "SVC CV mean = 0.786 \n",
      "\n",
      "[0.864      0.792      0.84677419 0.75       0.7983871 ]\n",
      "XGB CV mean = 0.810\n"
     ]
    }
   ],
   "source": [
    "# Scale the data \n",
    "\n",
    "from sklearn.preprocessing import StandardScaler\n",
    "scale = StandardScaler()\n",
    "X_train_scaled = scale.fit_transform(X_train)\n",
    "X_test_scaled = scale.fit_transform(X_test)\n",
    "\n",
    "# Compare models\n",
    "\n",
    "from sklearn.model_selection import cross_val_score\n",
    "from sklearn.naive_bayes import GaussianNB\n",
    "from sklearn.linear_model import LogisticRegression\n",
    "from sklearn import tree\n",
    "from sklearn.neighbors import KNeighborsClassifier\n",
    "from sklearn.ensemble import RandomForestClassifier\n",
    "from sklearn.svm import SVC\n",
    "from xgboost import XGBClassifier\n",
    "from sklearn.metrics import accuracy_score\n",
    "from sklearn.metrics import confusion_matrix\n",
    "from sklearn.metrics import classification_report\n",
    "\n",
    "\n",
    "gnb = GaussianNB()\n",
    "cv = cross_val_score(gnb, X_train, y_train, cv=5)\n",
    "print(cv)\n",
    "print('Naive Bayes CV mean =', '{:.3f}'.format(cv.mean()), '\\n')\n",
    "\n",
    "lr = LogisticRegression(max_iter = 2000)\n",
    "cv = cross_val_score(lr, X_train_scaled, y_train, cv=5)\n",
    "print(cv)\n",
    "print('Logistic Regression CV mean =', '{:.3f}'.format(cv.mean()), '\\n')\n",
    "\n",
    "dt = tree.DecisionTreeClassifier(random_state = 1)\n",
    "cv = cross_val_score(dt, X_train, y_train, cv=5)\n",
    "print(cv)\n",
    "print('Decision Tree CV mean =', '{:.3f}'.format(cv.mean()), '\\n')\n",
    "\n",
    "knn = KNeighborsClassifier()\n",
    "cv = cross_val_score(knn, X_train, y_train, cv=5)\n",
    "print(cv)\n",
    "print('KNeighbors CV mean =', '{:.3f}'.format(cv.mean()), '\\n')\n",
    "\n",
    "rf = RandomForestClassifier(random_state = 1)\n",
    "cv = cross_val_score(rf, X_train, y_train, cv=5)\n",
    "print(cv)\n",
    "print('Random Forest CV mean =', '{:.3f}'.format(cv.mean()), '\\n')\n",
    "\n",
    "svc = SVC(probability = True)\n",
    "cv = cross_val_score(svc, X_train_scaled, y_train, cv=5)\n",
    "print(cv)\n",
    "print('SVC CV mean =', '{:.3f}'.format(cv.mean()), '\\n')\n",
    "\n",
    "xgb = XGBClassifier(random_state = 1)\n",
    "cv = cross_val_score(xgb, X_train_scaled, y_train, cv=5)\n",
    "print(cv)\n",
    "print('XGB CV mean =', '{:.3f}'.format(cv.mean()))\n",
    "\n"
   ]
  },
  {
   "cell_type": "code",
   "execution_count": 17,
   "id": "ad5c0a5a",
   "metadata": {
    "execution": {
     "iopub.execute_input": "2023-04-19T17:52:15.838415Z",
     "iopub.status.busy": "2023-04-19T17:52:15.837989Z",
     "iopub.status.idle": "2023-04-19T17:52:16.680567Z",
     "shell.execute_reply": "2023-04-19T17:52:16.679196Z"
    },
    "papermill": {
     "duration": 0.860896,
     "end_time": "2023-04-19T17:52:16.683852",
     "exception": false,
     "start_time": "2023-04-19T17:52:15.822956",
     "status": "completed"
    },
    "tags": []
   },
   "outputs": [
    {
     "name": "stdout",
     "output_type": "stream",
     "text": [
      "[[135  30]\n",
      " [ 23  79]]\n",
      "GaussianNB Accuracy =  80.15\n",
      "80\n",
      "              precision    recall  f1-score   support\n",
      "\n",
      "           0       0.82      0.85      0.84       158\n",
      "           1       0.77      0.72      0.75       109\n",
      "\n",
      "    accuracy                           0.80       267\n",
      "   macro avg       0.80      0.79      0.79       267\n",
      "weighted avg       0.80      0.80      0.80       267\n",
      "\n",
      "[[146  19]\n",
      " [ 30  72]]\n",
      "LogisticRegression Accuracy =  81.65\n",
      "82\n",
      "              precision    recall  f1-score   support\n",
      "\n",
      "           0       0.88      0.83      0.86       176\n",
      "           1       0.71      0.79      0.75        91\n",
      "\n",
      "    accuracy                           0.82       267\n",
      "   macro avg       0.80      0.81      0.80       267\n",
      "weighted avg       0.82      0.82      0.82       267\n",
      "\n",
      "[[143  22]\n",
      " [ 32  70]]\n",
      "DecisionTree Accuracy =  79.78\n",
      "80\n",
      "              precision    recall  f1-score   support\n",
      "\n",
      "           0       0.87      0.82      0.84       175\n",
      "           1       0.69      0.76      0.72        92\n",
      "\n",
      "    accuracy                           0.80       267\n",
      "   macro avg       0.78      0.79      0.78       267\n",
      "weighted avg       0.80      0.80      0.80       267\n",
      "\n",
      "[[142  23]\n",
      " [ 27  75]]\n",
      "KNeighbors Accuracy =  81.27\n",
      "81\n",
      "              precision    recall  f1-score   support\n",
      "\n",
      "           0       0.86      0.84      0.85       169\n",
      "           1       0.74      0.77      0.75        98\n",
      "\n",
      "    accuracy                           0.81       267\n",
      "   macro avg       0.80      0.80      0.80       267\n",
      "weighted avg       0.81      0.81      0.81       267\n",
      "\n",
      "[[140  25]\n",
      " [ 28  74]]\n",
      "RandomForest Accuracy =  80.15\n",
      "80\n",
      "              precision    recall  f1-score   support\n",
      "\n",
      "           0       0.85      0.83      0.84       168\n",
      "           1       0.73      0.75      0.74        99\n",
      "\n",
      "    accuracy                           0.80       267\n",
      "   macro avg       0.79      0.79      0.79       267\n",
      "weighted avg       0.80      0.80      0.80       267\n",
      "\n",
      "[[154  11]\n",
      " [ 35  67]]\n",
      "SVC Accuracy =  82.77\n",
      "83\n",
      "              precision    recall  f1-score   support\n",
      "\n",
      "           0       0.93      0.81      0.87       189\n",
      "           1       0.66      0.86      0.74        78\n",
      "\n",
      "    accuracy                           0.83       267\n",
      "   macro avg       0.80      0.84      0.81       267\n",
      "weighted avg       0.85      0.83      0.83       267\n",
      "\n",
      "Confusion matrix: \n",
      " [[144  21]\n",
      " [ 28  74]]\n",
      "XGB Accuracy =  81.65\n",
      "82\n",
      "              precision    recall  f1-score   support\n",
      "\n",
      "           0       0.87      0.84      0.85       172\n",
      "           1       0.73      0.78      0.75        95\n",
      "\n",
      "    accuracy                           0.82       267\n",
      "   macro avg       0.80      0.81      0.80       267\n",
      "weighted avg       0.82      0.82      0.82       267\n",
      "\n"
     ]
    }
   ],
   "source": [
    "gnb = GaussianNB()\n",
    "gnb.fit(X_train, y_train)\n",
    "predictions = gnb.predict(X_test)\n",
    "conf_mat = confusion_matrix(y_test, predictions)\n",
    "print(conf_mat)\n",
    "print('GaussianNB Accuracy = ', round((conf_mat[0,0] + conf_mat[1,1]) / (conf_mat[0,0] + conf_mat[1,1] + conf_mat[0,1] + conf_mat[1,0]) * 100, 2))\n",
    "print(round(gnb.score(X_test, y_test) * 100))\n",
    "print(classification_report(predictions, y_test))\n",
    "\n",
    "lr = LogisticRegression(max_iter = 2000)\n",
    "lr.fit(X_train, y_train)\n",
    "predictions = lr.predict(X_test)\n",
    "conf_mat = confusion_matrix(y_test, predictions)\n",
    "print(conf_mat)\n",
    "print('LogisticRegression Accuracy = ', round((conf_mat[0,0] + conf_mat[1,1]) / (conf_mat[0,0] + conf_mat[1,1] + conf_mat[0,1] + conf_mat[1,0]) * 100, 2))\n",
    "print(round(lr.score(X_test, y_test) * 100))\n",
    "print(classification_report(predictions, y_test))\n",
    "\n",
    "dt = tree.DecisionTreeClassifier(random_state = 1)\n",
    "dt.fit(X_train, y_train)\n",
    "predictions = dt.predict(X_test)\n",
    "conf_mat = confusion_matrix(y_test, predictions)\n",
    "print(conf_mat)\n",
    "print('DecisionTree Accuracy = ', round((conf_mat[0,0] + conf_mat[1,1]) / (conf_mat[0,0] + conf_mat[1,1] + conf_mat[0,1] + conf_mat[1,0]) * 100, 2))\n",
    "print(round(dt.score(X_test, y_test) * 100))\n",
    "print(classification_report(predictions, y_test))\n",
    "\n",
    "knn = KNeighborsClassifier()\n",
    "knn.fit(X_train, y_train)\n",
    "predictions = knn.predict(X_test)\n",
    "conf_mat = confusion_matrix(y_test, predictions)\n",
    "print(conf_mat)\n",
    "print('KNeighbors Accuracy = ', round((conf_mat[0,0] + conf_mat[1,1]) / (conf_mat[0,0] + conf_mat[1,1] + conf_mat[0,1] + conf_mat[1,0]) * 100, 2))\n",
    "print(round(knn.score(X_test, y_test) * 100))\n",
    "print(classification_report(predictions, y_test))\n",
    "\n",
    "rf = RandomForestClassifier()\n",
    "rf.fit(X_train, y_train)\n",
    "predictions = rf.predict(X_test)\n",
    "conf_mat = confusion_matrix(y_test, predictions)\n",
    "print(conf_mat)\n",
    "print('RandomForest Accuracy = ', round((conf_mat[0,0] + conf_mat[1,1]) / (conf_mat[0,0] + conf_mat[1,1] + conf_mat[0,1] + conf_mat[1,0]) * 100, 2))\n",
    "print(round(rf.score(X_test, y_test) * 100))\n",
    "print(classification_report(predictions, y_test))\n",
    "\n",
    "svc = SVC(probability = True)\n",
    "svc.fit(X_train, y_train)\n",
    "predictions = svc.predict(X_test)\n",
    "conf_mat = confusion_matrix(y_test, predictions)\n",
    "print(conf_mat)\n",
    "print('SVC Accuracy = ', round((conf_mat[0,0] + conf_mat[1,1]) / (conf_mat[0,0] + conf_mat[1,1] + conf_mat[0,1] + conf_mat[1,0]) * 100, 2))\n",
    "print(round(svc.score(X_test, y_test) * 100))\n",
    "print(classification_report(predictions, y_test))\n",
    "\n",
    "xgb = XGBClassifier(random_state = 1)\n",
    "xgb.fit(X_train, y_train)\n",
    "predictions = xgb.predict(X_test)\n",
    "conf_mat = confusion_matrix(y_test, predictions)\n",
    "print('Confusion matrix:', '\\n',conf_mat)\n",
    "print('XGB Accuracy = ', round((conf_mat[0,0] + conf_mat[1,1]) / (conf_mat[0,0] + conf_mat[1,1] + conf_mat[0,1] + conf_mat[1,0]) * 100, 2))\n",
    "print(round(xgb.score(X_test, y_test) * 100))\n",
    "print(classification_report(predictions, y_test))"
   ]
  },
  {
   "cell_type": "code",
   "execution_count": 18,
   "id": "36235e97",
   "metadata": {
    "execution": {
     "iopub.execute_input": "2023-04-19T17:52:16.713242Z",
     "iopub.status.busy": "2023-04-19T17:52:16.712789Z",
     "iopub.status.idle": "2023-04-19T17:52:16.719257Z",
     "shell.execute_reply": "2023-04-19T17:52:16.718033Z"
    },
    "papermill": {
     "duration": 0.024289,
     "end_time": "2023-04-19T17:52:16.721921",
     "exception": false,
     "start_time": "2023-04-19T17:52:16.697632",
     "status": "completed"
    },
    "tags": []
   },
   "outputs": [],
   "source": [
    "# Hyperparameter Tuning - GridSearchCV\n",
    "\n",
    "from sklearn.model_selection import GridSearchCV\n",
    "\n",
    "param_grid = {\n",
    "    'n_estimators': [25, 50, 100, 150],\n",
    "    'max_features': ['sqrt', 'log2', None],\n",
    "    'max_depth': [3, 6, 9],\n",
    "    'max_leaf_nodes': [3, 6, 9],\n",
    "}"
   ]
  },
  {
   "cell_type": "code",
   "execution_count": 19,
   "id": "ca963ee4",
   "metadata": {
    "execution": {
     "iopub.execute_input": "2023-04-19T17:52:16.751388Z",
     "iopub.status.busy": "2023-04-19T17:52:16.750949Z",
     "iopub.status.idle": "2023-04-19T17:53:28.174525Z",
     "shell.execute_reply": "2023-04-19T17:53:28.173145Z"
    },
    "papermill": {
     "duration": 71.454634,
     "end_time": "2023-04-19T17:53:28.190423",
     "exception": false,
     "start_time": "2023-04-19T17:52:16.735789",
     "status": "completed"
    },
    "tags": []
   },
   "outputs": [
    {
     "name": "stdout",
     "output_type": "stream",
     "text": [
      "RandomForestClassifier(max_depth=6, max_features=None, max_leaf_nodes=9,\n",
      "                       n_estimators=25)\n"
     ]
    }
   ],
   "source": [
    "grid_search = GridSearchCV(RandomForestClassifier(),\n",
    "                           param_grid=param_grid)\n",
    "grid_search.fit(X_train, y_train)\n",
    "print(grid_search.best_estimator_)"
   ]
  },
  {
   "cell_type": "code",
   "execution_count": 20,
   "id": "9a5253af",
   "metadata": {
    "execution": {
     "iopub.execute_input": "2023-04-19T17:53:28.219985Z",
     "iopub.status.busy": "2023-04-19T17:53:28.219454Z",
     "iopub.status.idle": "2023-04-19T17:53:28.329300Z",
     "shell.execute_reply": "2023-04-19T17:53:28.327635Z"
    },
    "papermill": {
     "duration": 0.128076,
     "end_time": "2023-04-19T17:53:28.332079",
     "exception": false,
     "start_time": "2023-04-19T17:53:28.204003",
     "status": "completed"
    },
    "tags": []
   },
   "outputs": [
    {
     "name": "stdout",
     "output_type": "stream",
     "text": [
      "              precision    recall  f1-score   support\n",
      "\n",
      "           0       0.95      0.81      0.87       193\n",
      "           1       0.64      0.88      0.74        74\n",
      "\n",
      "    accuracy                           0.83       267\n",
      "   macro avg       0.79      0.84      0.81       267\n",
      "weighted avg       0.86      0.83      0.83       267\n",
      "\n",
      "[[144  21]\n",
      " [ 28  74]]\n",
      "RandomForest Accuracy =  81.65\n"
     ]
    }
   ],
   "source": [
    "from sklearn.metrics import classification_report\n",
    "\n",
    "model_grid = RandomForestClassifier(max_depth=9,\n",
    "                                    max_features=None,\n",
    "                                    max_leaf_nodes=9,\n",
    "                                    n_estimators=50)\n",
    "model_grid.fit(X_train, y_train)\n",
    "predictions_grid = model_grid.predict(X_test)\n",
    "print(classification_report(predictions_grid, y_test))\n",
    "print(conf_mat)\n",
    "print('RandomForest Accuracy = ', round((conf_mat[0,0] + conf_mat[1,1]) / (conf_mat[0,0] + conf_mat[1,1] + conf_mat[0,1] + conf_mat[1,0]) * 100, 2))"
   ]
  },
  {
   "cell_type": "code",
   "execution_count": 21,
   "id": "e38f15cb",
   "metadata": {
    "execution": {
     "iopub.execute_input": "2023-04-19T17:53:28.362188Z",
     "iopub.status.busy": "2023-04-19T17:53:28.360777Z",
     "iopub.status.idle": "2023-04-19T17:53:28.388511Z",
     "shell.execute_reply": "2023-04-19T17:53:28.387288Z"
    },
    "papermill": {
     "duration": 0.045565,
     "end_time": "2023-04-19T17:53:28.391146",
     "exception": false,
     "start_time": "2023-04-19T17:53:28.345581",
     "status": "completed"
    },
    "tags": []
   },
   "outputs": [
    {
     "data": {
      "text/html": [
       "<div>\n",
       "<style scoped>\n",
       "    .dataframe tbody tr th:only-of-type {\n",
       "        vertical-align: middle;\n",
       "    }\n",
       "\n",
       "    .dataframe tbody tr th {\n",
       "        vertical-align: top;\n",
       "    }\n",
       "\n",
       "    .dataframe thead th {\n",
       "        text-align: right;\n",
       "    }\n",
       "</style>\n",
       "<table border=\"1\" class=\"dataframe\">\n",
       "  <thead>\n",
       "    <tr style=\"text-align: right;\">\n",
       "      <th></th>\n",
       "      <th>PassengerId</th>\n",
       "      <th>Pclass</th>\n",
       "      <th>Name</th>\n",
       "      <th>Sex</th>\n",
       "      <th>Age</th>\n",
       "      <th>SibSp</th>\n",
       "      <th>Parch</th>\n",
       "      <th>Ticket</th>\n",
       "      <th>Fare</th>\n",
       "      <th>Cabin</th>\n",
       "      <th>Embarked</th>\n",
       "    </tr>\n",
       "  </thead>\n",
       "  <tbody>\n",
       "    <tr>\n",
       "      <th>0</th>\n",
       "      <td>892</td>\n",
       "      <td>3</td>\n",
       "      <td>Kelly, Mr. James</td>\n",
       "      <td>male</td>\n",
       "      <td>34.5</td>\n",
       "      <td>0</td>\n",
       "      <td>0</td>\n",
       "      <td>330911</td>\n",
       "      <td>7.8292</td>\n",
       "      <td>NaN</td>\n",
       "      <td>Q</td>\n",
       "    </tr>\n",
       "    <tr>\n",
       "      <th>1</th>\n",
       "      <td>893</td>\n",
       "      <td>3</td>\n",
       "      <td>Wilkes, Mrs. James (Ellen Needs)</td>\n",
       "      <td>female</td>\n",
       "      <td>47.0</td>\n",
       "      <td>1</td>\n",
       "      <td>0</td>\n",
       "      <td>363272</td>\n",
       "      <td>7.0000</td>\n",
       "      <td>NaN</td>\n",
       "      <td>S</td>\n",
       "    </tr>\n",
       "    <tr>\n",
       "      <th>2</th>\n",
       "      <td>894</td>\n",
       "      <td>2</td>\n",
       "      <td>Myles, Mr. Thomas Francis</td>\n",
       "      <td>male</td>\n",
       "      <td>62.0</td>\n",
       "      <td>0</td>\n",
       "      <td>0</td>\n",
       "      <td>240276</td>\n",
       "      <td>9.6875</td>\n",
       "      <td>NaN</td>\n",
       "      <td>Q</td>\n",
       "    </tr>\n",
       "    <tr>\n",
       "      <th>3</th>\n",
       "      <td>895</td>\n",
       "      <td>3</td>\n",
       "      <td>Wirz, Mr. Albert</td>\n",
       "      <td>male</td>\n",
       "      <td>27.0</td>\n",
       "      <td>0</td>\n",
       "      <td>0</td>\n",
       "      <td>315154</td>\n",
       "      <td>8.6625</td>\n",
       "      <td>NaN</td>\n",
       "      <td>S</td>\n",
       "    </tr>\n",
       "    <tr>\n",
       "      <th>4</th>\n",
       "      <td>896</td>\n",
       "      <td>3</td>\n",
       "      <td>Hirvonen, Mrs. Alexander (Helga E Lindqvist)</td>\n",
       "      <td>female</td>\n",
       "      <td>22.0</td>\n",
       "      <td>1</td>\n",
       "      <td>1</td>\n",
       "      <td>3101298</td>\n",
       "      <td>12.2875</td>\n",
       "      <td>NaN</td>\n",
       "      <td>S</td>\n",
       "    </tr>\n",
       "  </tbody>\n",
       "</table>\n",
       "</div>"
      ],
      "text/plain": [
       "   PassengerId  Pclass                                          Name     Sex  \\\n",
       "0          892       3                              Kelly, Mr. James    male   \n",
       "1          893       3              Wilkes, Mrs. James (Ellen Needs)  female   \n",
       "2          894       2                     Myles, Mr. Thomas Francis    male   \n",
       "3          895       3                              Wirz, Mr. Albert    male   \n",
       "4          896       3  Hirvonen, Mrs. Alexander (Helga E Lindqvist)  female   \n",
       "\n",
       "    Age  SibSp  Parch   Ticket     Fare Cabin Embarked  \n",
       "0  34.5      0      0   330911   7.8292   NaN        Q  \n",
       "1  47.0      1      0   363272   7.0000   NaN        S  \n",
       "2  62.0      0      0   240276   9.6875   NaN        Q  \n",
       "3  27.0      0      0   315154   8.6625   NaN        S  \n",
       "4  22.0      1      1  3101298  12.2875   NaN        S  "
      ]
     },
     "execution_count": 21,
     "metadata": {},
     "output_type": "execute_result"
    }
   ],
   "source": [
    "# Read the real test data\n",
    "\n",
    "test_data = pd.read_csv('/kaggle/input/titanic/test.csv')\n",
    "test_data.head()"
   ]
  },
  {
   "cell_type": "code",
   "execution_count": 22,
   "id": "cfcb66c5",
   "metadata": {
    "execution": {
     "iopub.execute_input": "2023-04-19T17:53:28.421161Z",
     "iopub.status.busy": "2023-04-19T17:53:28.420679Z",
     "iopub.status.idle": "2023-04-19T17:53:28.434964Z",
     "shell.execute_reply": "2023-04-19T17:53:28.433600Z"
    },
    "papermill": {
     "duration": 0.032485,
     "end_time": "2023-04-19T17:53:28.437580",
     "exception": false,
     "start_time": "2023-04-19T17:53:28.405095",
     "status": "completed"
    },
    "tags": []
   },
   "outputs": [
    {
     "name": "stdout",
     "output_type": "stream",
     "text": [
      "<class 'pandas.core.frame.DataFrame'>\n",
      "RangeIndex: 418 entries, 0 to 417\n",
      "Data columns (total 11 columns):\n",
      " #   Column       Non-Null Count  Dtype  \n",
      "---  ------       --------------  -----  \n",
      " 0   PassengerId  418 non-null    int64  \n",
      " 1   Pclass       418 non-null    int64  \n",
      " 2   Name         418 non-null    object \n",
      " 3   Sex          418 non-null    object \n",
      " 4   Age          332 non-null    float64\n",
      " 5   SibSp        418 non-null    int64  \n",
      " 6   Parch        418 non-null    int64  \n",
      " 7   Ticket       418 non-null    object \n",
      " 8   Fare         417 non-null    float64\n",
      " 9   Cabin        91 non-null     object \n",
      " 10  Embarked     418 non-null    object \n",
      "dtypes: float64(2), int64(4), object(5)\n",
      "memory usage: 36.0+ KB\n"
     ]
    }
   ],
   "source": [
    "# Information\n",
    "\n",
    "test_data.info()"
   ]
  },
  {
   "cell_type": "code",
   "execution_count": 23,
   "id": "fc198567",
   "metadata": {
    "execution": {
     "iopub.execute_input": "2023-04-19T17:53:28.467152Z",
     "iopub.status.busy": "2023-04-19T17:53:28.466638Z",
     "iopub.status.idle": "2023-04-19T17:53:28.511947Z",
     "shell.execute_reply": "2023-04-19T17:53:28.510653Z"
    },
    "papermill": {
     "duration": 0.063556,
     "end_time": "2023-04-19T17:53:28.514910",
     "exception": false,
     "start_time": "2023-04-19T17:53:28.451354",
     "status": "completed"
    },
    "tags": []
   },
   "outputs": [
    {
     "data": {
      "text/html": [
       "<div>\n",
       "<style scoped>\n",
       "    .dataframe tbody tr th:only-of-type {\n",
       "        vertical-align: middle;\n",
       "    }\n",
       "\n",
       "    .dataframe tbody tr th {\n",
       "        vertical-align: top;\n",
       "    }\n",
       "\n",
       "    .dataframe thead th {\n",
       "        text-align: right;\n",
       "    }\n",
       "</style>\n",
       "<table border=\"1\" class=\"dataframe\">\n",
       "  <thead>\n",
       "    <tr style=\"text-align: right;\">\n",
       "      <th></th>\n",
       "      <th>PassengerId</th>\n",
       "      <th>Pclass</th>\n",
       "      <th>Name</th>\n",
       "      <th>Sex</th>\n",
       "      <th>Age</th>\n",
       "      <th>SibSp</th>\n",
       "      <th>Parch</th>\n",
       "      <th>Ticket</th>\n",
       "      <th>Fare</th>\n",
       "      <th>Cabin</th>\n",
       "      <th>Embarked</th>\n",
       "    </tr>\n",
       "  </thead>\n",
       "  <tbody>\n",
       "    <tr>\n",
       "      <th>count</th>\n",
       "      <td>418.000000</td>\n",
       "      <td>418.000000</td>\n",
       "      <td>418</td>\n",
       "      <td>418</td>\n",
       "      <td>332.000000</td>\n",
       "      <td>418.000000</td>\n",
       "      <td>418.000000</td>\n",
       "      <td>418</td>\n",
       "      <td>417.000000</td>\n",
       "      <td>91</td>\n",
       "      <td>418</td>\n",
       "    </tr>\n",
       "    <tr>\n",
       "      <th>unique</th>\n",
       "      <td>NaN</td>\n",
       "      <td>NaN</td>\n",
       "      <td>418</td>\n",
       "      <td>2</td>\n",
       "      <td>NaN</td>\n",
       "      <td>NaN</td>\n",
       "      <td>NaN</td>\n",
       "      <td>363</td>\n",
       "      <td>NaN</td>\n",
       "      <td>76</td>\n",
       "      <td>3</td>\n",
       "    </tr>\n",
       "    <tr>\n",
       "      <th>top</th>\n",
       "      <td>NaN</td>\n",
       "      <td>NaN</td>\n",
       "      <td>Kelly, Mr. James</td>\n",
       "      <td>male</td>\n",
       "      <td>NaN</td>\n",
       "      <td>NaN</td>\n",
       "      <td>NaN</td>\n",
       "      <td>PC 17608</td>\n",
       "      <td>NaN</td>\n",
       "      <td>B57 B59 B63 B66</td>\n",
       "      <td>S</td>\n",
       "    </tr>\n",
       "    <tr>\n",
       "      <th>freq</th>\n",
       "      <td>NaN</td>\n",
       "      <td>NaN</td>\n",
       "      <td>1</td>\n",
       "      <td>266</td>\n",
       "      <td>NaN</td>\n",
       "      <td>NaN</td>\n",
       "      <td>NaN</td>\n",
       "      <td>5</td>\n",
       "      <td>NaN</td>\n",
       "      <td>3</td>\n",
       "      <td>270</td>\n",
       "    </tr>\n",
       "    <tr>\n",
       "      <th>mean</th>\n",
       "      <td>1100.500000</td>\n",
       "      <td>2.265550</td>\n",
       "      <td>NaN</td>\n",
       "      <td>NaN</td>\n",
       "      <td>30.272590</td>\n",
       "      <td>0.447368</td>\n",
       "      <td>0.392344</td>\n",
       "      <td>NaN</td>\n",
       "      <td>35.627188</td>\n",
       "      <td>NaN</td>\n",
       "      <td>NaN</td>\n",
       "    </tr>\n",
       "    <tr>\n",
       "      <th>std</th>\n",
       "      <td>120.810458</td>\n",
       "      <td>0.841838</td>\n",
       "      <td>NaN</td>\n",
       "      <td>NaN</td>\n",
       "      <td>14.181209</td>\n",
       "      <td>0.896760</td>\n",
       "      <td>0.981429</td>\n",
       "      <td>NaN</td>\n",
       "      <td>55.907576</td>\n",
       "      <td>NaN</td>\n",
       "      <td>NaN</td>\n",
       "    </tr>\n",
       "    <tr>\n",
       "      <th>min</th>\n",
       "      <td>892.000000</td>\n",
       "      <td>1.000000</td>\n",
       "      <td>NaN</td>\n",
       "      <td>NaN</td>\n",
       "      <td>0.170000</td>\n",
       "      <td>0.000000</td>\n",
       "      <td>0.000000</td>\n",
       "      <td>NaN</td>\n",
       "      <td>0.000000</td>\n",
       "      <td>NaN</td>\n",
       "      <td>NaN</td>\n",
       "    </tr>\n",
       "    <tr>\n",
       "      <th>25%</th>\n",
       "      <td>996.250000</td>\n",
       "      <td>1.000000</td>\n",
       "      <td>NaN</td>\n",
       "      <td>NaN</td>\n",
       "      <td>21.000000</td>\n",
       "      <td>0.000000</td>\n",
       "      <td>0.000000</td>\n",
       "      <td>NaN</td>\n",
       "      <td>7.895800</td>\n",
       "      <td>NaN</td>\n",
       "      <td>NaN</td>\n",
       "    </tr>\n",
       "    <tr>\n",
       "      <th>50%</th>\n",
       "      <td>1100.500000</td>\n",
       "      <td>3.000000</td>\n",
       "      <td>NaN</td>\n",
       "      <td>NaN</td>\n",
       "      <td>27.000000</td>\n",
       "      <td>0.000000</td>\n",
       "      <td>0.000000</td>\n",
       "      <td>NaN</td>\n",
       "      <td>14.454200</td>\n",
       "      <td>NaN</td>\n",
       "      <td>NaN</td>\n",
       "    </tr>\n",
       "    <tr>\n",
       "      <th>75%</th>\n",
       "      <td>1204.750000</td>\n",
       "      <td>3.000000</td>\n",
       "      <td>NaN</td>\n",
       "      <td>NaN</td>\n",
       "      <td>39.000000</td>\n",
       "      <td>1.000000</td>\n",
       "      <td>0.000000</td>\n",
       "      <td>NaN</td>\n",
       "      <td>31.500000</td>\n",
       "      <td>NaN</td>\n",
       "      <td>NaN</td>\n",
       "    </tr>\n",
       "    <tr>\n",
       "      <th>max</th>\n",
       "      <td>1309.000000</td>\n",
       "      <td>3.000000</td>\n",
       "      <td>NaN</td>\n",
       "      <td>NaN</td>\n",
       "      <td>76.000000</td>\n",
       "      <td>8.000000</td>\n",
       "      <td>9.000000</td>\n",
       "      <td>NaN</td>\n",
       "      <td>512.329200</td>\n",
       "      <td>NaN</td>\n",
       "      <td>NaN</td>\n",
       "    </tr>\n",
       "  </tbody>\n",
       "</table>\n",
       "</div>"
      ],
      "text/plain": [
       "        PassengerId      Pclass              Name   Sex         Age  \\\n",
       "count    418.000000  418.000000               418   418  332.000000   \n",
       "unique          NaN         NaN               418     2         NaN   \n",
       "top             NaN         NaN  Kelly, Mr. James  male         NaN   \n",
       "freq            NaN         NaN                 1   266         NaN   \n",
       "mean    1100.500000    2.265550               NaN   NaN   30.272590   \n",
       "std      120.810458    0.841838               NaN   NaN   14.181209   \n",
       "min      892.000000    1.000000               NaN   NaN    0.170000   \n",
       "25%      996.250000    1.000000               NaN   NaN   21.000000   \n",
       "50%     1100.500000    3.000000               NaN   NaN   27.000000   \n",
       "75%     1204.750000    3.000000               NaN   NaN   39.000000   \n",
       "max     1309.000000    3.000000               NaN   NaN   76.000000   \n",
       "\n",
       "             SibSp       Parch    Ticket        Fare            Cabin Embarked  \n",
       "count   418.000000  418.000000       418  417.000000               91      418  \n",
       "unique         NaN         NaN       363         NaN               76        3  \n",
       "top            NaN         NaN  PC 17608         NaN  B57 B59 B63 B66        S  \n",
       "freq           NaN         NaN         5         NaN                3      270  \n",
       "mean      0.447368    0.392344       NaN   35.627188              NaN      NaN  \n",
       "std       0.896760    0.981429       NaN   55.907576              NaN      NaN  \n",
       "min       0.000000    0.000000       NaN    0.000000              NaN      NaN  \n",
       "25%       0.000000    0.000000       NaN    7.895800              NaN      NaN  \n",
       "50%       0.000000    0.000000       NaN   14.454200              NaN      NaN  \n",
       "75%       1.000000    0.000000       NaN   31.500000              NaN      NaN  \n",
       "max       8.000000    9.000000       NaN  512.329200              NaN      NaN  "
      ]
     },
     "execution_count": 23,
     "metadata": {},
     "output_type": "execute_result"
    }
   ],
   "source": [
    "# Description\n",
    "\n",
    "test_data.describe(include = \"all\")"
   ]
  },
  {
   "cell_type": "code",
   "execution_count": 24,
   "id": "6495adf6",
   "metadata": {
    "execution": {
     "iopub.execute_input": "2023-04-19T17:53:28.546319Z",
     "iopub.status.busy": "2023-04-19T17:53:28.545482Z",
     "iopub.status.idle": "2023-04-19T17:53:28.921711Z",
     "shell.execute_reply": "2023-04-19T17:53:28.920098Z"
    },
    "papermill": {
     "duration": 0.395409,
     "end_time": "2023-04-19T17:53:28.924865",
     "exception": false,
     "start_time": "2023-04-19T17:53:28.529456",
     "status": "completed"
    },
    "tags": []
   },
   "outputs": [
    {
     "name": "stderr",
     "output_type": "stream",
     "text": [
      "/opt/conda/lib/python3.7/site-packages/numpy/lib/nanfunctions.py:1117: RuntimeWarning: Mean of empty slice\n",
      "  return np.nanmean(a, axis, out=out, keepdims=keepdims)\n",
      "/opt/conda/lib/python3.7/site-packages/numpy/lib/nanfunctions.py:1117: RuntimeWarning: Mean of empty slice\n",
      "  return np.nanmean(a, axis, out=out, keepdims=keepdims)\n",
      "/opt/conda/lib/python3.7/site-packages/seaborn/_decorators.py:43: FutureWarning: Pass the following variable as a keyword arg: x. From version 0.12, the only valid positional argument will be `data`, and passing other arguments without an explicit keyword will result in an error or misinterpretation.\n",
      "  FutureWarning\n"
     ]
    },
    {
     "name": "stdout",
     "output_type": "stream",
     "text": [
      "Mr        517\n",
      "Miss      184\n",
      "Mrs       125\n",
      "Master     40\n",
      "Rare       23\n",
      "Name: Title, dtype: int64\n"
     ]
    },
    {
     "data": {
      "image/png": "[encoded data removed]",
      "text/plain": [
       "<Figure size 432x288 with 1 Axes>"
      ]
     },
     "metadata": {
      "needs_background": "light"
     },
     "output_type": "display_data"
    },
    {
     "name": "stdout",
     "output_type": "stream",
     "text": [
      "0    0\n",
      "1    0\n",
      "2    1\n",
      "3    0\n",
      "4    1\n",
      "Name: IsAlone, dtype: int64\n",
      "<class 'pandas.core.frame.DataFrame'>\n",
      "RangeIndex: 418 entries, 0 to 417\n",
      "Data columns (total 20 columns):\n",
      " #   Column                   Non-Null Count  Dtype\n",
      "---  ------                   --------------  -----\n",
      " 0   Pclass                   418 non-null    int64\n",
      " 1   IsAlone                  418 non-null    int64\n",
      " 2   Sex_female               418 non-null    uint8\n",
      " 3   Sex_male                 418 non-null    uint8\n",
      " 4   Fare_Range_Low_fare      418 non-null    uint8\n",
      " 5   Fare_Range_median_fare   418 non-null    uint8\n",
      " 6   Fare_Range_Average_fare  418 non-null    uint8\n",
      " 7   Fare_Range_high_fare     418 non-null    uint8\n",
      " 8   Embarked_C               418 non-null    uint8\n",
      " 9   Embarked_Q               418 non-null    uint8\n",
      " 10  Embarked_S               418 non-null    uint8\n",
      " 11  Title_Master             418 non-null    uint8\n",
      " 12  Title_Miss               418 non-null    uint8\n",
      " 13  Title_Mr                 418 non-null    uint8\n",
      " 14  Title_Mrs                418 non-null    uint8\n",
      " 15  Title_Rare               418 non-null    uint8\n",
      " 16  Age_Range_Children       418 non-null    uint8\n",
      " 17  Age_Range_Teenage        418 non-null    uint8\n",
      " 18  Age_Range_Adult          418 non-null    uint8\n",
      " 19  Age_Range_Elder          418 non-null    uint8\n",
      "dtypes: int64(2), uint8(18)\n",
      "memory usage: 14.0 KB\n",
      "None\n"
     ]
    }
   ],
   "source": [
    "# Data preprocessing \n",
    "\n",
    "# Choose the relevant features\n",
    "\n",
    "features = ['Pclass', 'Sex', 'Fare_Range', 'Embarked', 'Title', 'IsAlone', 'Age_Range']\n",
    "\n",
    "# Locate the rows which have the same values in the 'SibSp', 'Parch' and 'Pclass\" columns and fill the missing values with\n",
    "# the median of these rows if no rows are found fill the missing value with the median of the entire 'Age' column\n",
    "\n",
    "age_nan_indices = list(test_data[test_data['Age'].isnull()].index)\n",
    "\n",
    "for index in age_nan_indices:\n",
    "    median_age = test_data['Age'].median()\n",
    "    predict_age = test_data['Age'][(test_data['SibSp'] == test_data.iloc[index]['SibSp'])\n",
    "                                    & (test_data['Parch'] == test_data.iloc[index]['Parch'])\n",
    "                                    & (test_data['Pclass'] == test_data.iloc[index]['Pclass'])].median()\n",
    "                                       \n",
    "    if np.isnan(predict_age):\n",
    "        test_data['Age'].iloc[index] = median_age\n",
    "    else:\n",
    "        test_data['Age'].iloc[index] = predict_age\n",
    "        \n",
    "# Fill the missing values in the 'Fare' column with the median in oreder to use more data\n",
    "\n",
    "#median = test_data['Fare'].dropna().median()\n",
    "#test_data.fillna(median, inplace=True)\n",
    "\n",
    "# Normalize 'Fare' column using np.log (natural logarithm) to get a closer to normal distribution\n",
    "\n",
    "#test_data['Fare'] = np.log(data['Fare']+1)\n",
    "#test_data['Fare'].hist()\n",
    "#plt.show()\n",
    "#test_data.fillna(median, inplace=True)\n",
    "\n",
    "# Feature engeneering\n",
    "\n",
    "# Make 'Fare_Range' column\n",
    "\n",
    "test_data['Fare_Range'] = pd.cut(test_data['Fare'], bins=[0,7.91,14.45,31,120], labels=['Low_fare','median_fare', 'Average_fare','high_fare'])\n",
    "\n",
    "# Make 'Title' column\n",
    "\n",
    "test_data['Title'] = [name.split(',')[1].split('.')[0].strip() for name in test_data['Name']]\n",
    "test_data['Title'] = test_data['Title'].replace(['Jonkheer', 'Dr', 'Rev', 'Major', 'Col', 'Capt', 'Don', 'the Countess', 'Lady', 'Sir', 'Dona'], 'Rare')  \n",
    "test_data['Title'] = test_data['Title'].replace('Mme', 'Mrs') \n",
    "test_data['Title'] = test_data['Title'].replace(['Mlle', 'Ms'], 'Miss')\n",
    "print(train_data['Title'].value_counts())\n",
    "sns.countplot(train_data['Title'])\n",
    "plt.show()\n",
    "\n",
    "# Make 'IsAlone' column\n",
    "\n",
    "test_data['Family'] = test_data['SibSp'] + test_data['Parch'] + 1\n",
    "\n",
    "test_data['IsAlone'] = 0\n",
    "test_data.loc[test_data['Family'] == 1, 'IsAlone'] = 1\n",
    "print(train_data['IsAlone'].head())\n",
    "\n",
    "# Make 'Age_range' column\n",
    "\n",
    "test_data['Age_Range'] = pd.cut(test_data['Age'], bins=[0,12,20,40,120], labels=['Children','Teenage','Adult','Elder'])\n",
    "\n",
    "# Convert categorical variables into indicator variables using pd.get_dummies\n",
    "\n",
    "new_test_data = pd.get_dummies(test_data[features])\n",
    "\n",
    "# Assign X and y\n",
    "\n",
    "X_train = data.drop(columns=['Survived'])\n",
    "y_train = data['Survived']\n",
    "X_test = new_test_data\n",
    "print(X_test.info())\n"
   ]
  },
  {
   "cell_type": "code",
   "execution_count": 25,
   "id": "3bd53b4a",
   "metadata": {
    "execution": {
     "iopub.execute_input": "2023-04-19T17:53:28.956942Z",
     "iopub.status.busy": "2023-04-19T17:53:28.956322Z",
     "iopub.status.idle": "2023-04-19T17:53:29.073727Z",
     "shell.execute_reply": "2023-04-19T17:53:29.072350Z"
    },
    "papermill": {
     "duration": 0.137268,
     "end_time": "2023-04-19T17:53:29.077067",
     "exception": false,
     "start_time": "2023-04-19T17:53:28.939799",
     "status": "completed"
    },
    "tags": []
   },
   "outputs": [
    {
     "name": "stdout",
     "output_type": "stream",
     "text": [
      "     PassengerId  Survived\n",
      "0            892         0\n",
      "1            893         0\n",
      "2            894         0\n",
      "3            895         0\n",
      "4            896         0\n",
      "..           ...       ...\n",
      "413         1305         0\n",
      "414         1306         1\n",
      "415         1307         0\n",
      "416         1308         0\n",
      "417         1309         1\n",
      "\n",
      "[418 rows x 2 columns]\n"
     ]
    }
   ],
   "source": [
    "# Predictive model\n",
    "\n",
    "model_grid.fit(X_train, y_train)\n",
    "predictions_grid = model_grid.predict(X_test)\n",
    "output = pd.DataFrame({'PassengerId' : test_data.PassengerId, 'Survived' : predictions_grid})\n",
    "print(output)\n"
   ]
  },
  {
   "cell_type": "code",
   "execution_count": 26,
   "id": "66d3bb51",
   "metadata": {
    "execution": {
     "iopub.execute_input": "2023-04-19T17:53:29.109277Z",
     "iopub.status.busy": "2023-04-19T17:53:29.108804Z",
     "iopub.status.idle": "2023-04-19T17:53:29.118395Z",
     "shell.execute_reply": "2023-04-19T17:53:29.117169Z"
    },
    "papermill": {
     "duration": 0.029019,
     "end_time": "2023-04-19T17:53:29.121019",
     "exception": false,
     "start_time": "2023-04-19T17:53:29.092000",
     "status": "completed"
    },
    "tags": []
   },
   "outputs": [
    {
     "name": "stdout",
     "output_type": "stream",
     "text": [
      "Your submission was successfully saved!\n"
     ]
    }
   ],
   "source": [
    "output.to_csv('submission.csv', index=False)\n",
    "\n",
    "print(\"Your submission was successfully saved!\")"
   ]
  },
  {
   "cell_type": "code",
   "execution_count": null,
   "id": "8f3615b4",
   "metadata": {
    "papermill": {
     "duration": 0.014631,
     "end_time": "2023-04-19T17:53:29.150641",
     "exception": false,
     "start_time": "2023-04-19T17:53:29.136010",
     "status": "completed"
    },
    "tags": []
   },
   "outputs": [],
   "source": []
  }
 ],
 "metadata": {
  "kernelspec": {
   "display_name": "Python 3",
   "language": "python",
   "name": "python3"
  },
  "language_info": {
   "codemirror_mode": {
    "name": "ipython",
    "version": 3
   },
   "file_extension": ".py",
   "mimetype": "text/x-python",
   "name": "python",
   "nbconvert_exporter": "python",
   "pygments_lexer": "ipython3",
   "version": "3.7.12"
  },
  "papermill": {
   "default_parameters": {},
   "duration": 104.708935,
   "end_time": "2023-04-19T17:53:30.092456",
   "environment_variables": {},
   "exception": null,
   "input_path": "__notebook__.ipynb",
   "output_path": "__notebook__.ipynb",
   "parameters": {},
   "start_time": "2023-04-19T17:51:45.383521",
   "version": "2.3.4"
  }
 },
 "nbformat": 4,
 "nbformat_minor": 5
}
